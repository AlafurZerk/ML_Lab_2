{
 "cells": [
  {
   "cell_type": "markdown",
   "id": "d5480542-5fe1-461b-bd5f-2c2a6389161e",
   "metadata": {},
   "source": [
    "# 1. Создание и изменение массивов\n",
    "## Описание задания:\n",
    "- Создайте массив NumPy размером 3×3, содержащий числа от 1 до 9. \n",
    "- Умножьте все элементы массива на 2, а затем замените все элементы больше 10 на 0.\n",
    "- Выведите итоговый массив.\n"
   ]
  },
  {
   "cell_type": "code",
   "execution_count": 10,
   "id": "445a7cb3-8122-4dbe-8b96-d35475eee2b2",
   "metadata": {},
   "outputs": [
    {
     "name": "stdout",
     "output_type": "stream",
     "text": [
      "[[ 2  4  6]\n",
      " [ 8 10  0]\n",
      " [ 0  0  0]]\n"
     ]
    }
   ],
   "source": [
    "import numpy as np\n",
    "\n",
    "arr = np.arange(1,10).reshape(3,3)\n",
    "\n",
    "arr = arr * 2\n",
    "\n",
    "arr[arr > 10] = 0\n",
    "\n",
    "print (arr)"
   ]
  },
  {
   "cell_type": "markdown",
   "id": "33f55e0d-2c1c-4987-b23c-221a798ab6e9",
   "metadata": {},
   "source": [
    "# 2.Работа с булевыми масками\n",
    "## Описание задания:\n",
    "- Создайте массив NumPy из 20 случайных целых чисел от 1 до 100.\n",
    "- Найдите и выведите все элементы, которые делятся на 5 без остатка. \n",
    "- Затем замените их на -1 и выведите обновленный массив."
   ]
  },
  {
   "cell_type": "code",
   "execution_count": 11,
   "id": "43c9619c-eb8b-4728-80d6-e1430ffd8282",
   "metadata": {},
   "outputs": [
    {
     "name": "stdout",
     "output_type": "stream",
     "text": [
      "Исходный массив: [80 50 62 58 24 61 18  2 61  3 14 87  3 26 70 27 22 70 30 67]\n",
      "Элементы, делящиеся на 5: [80 50 70 70 30]\n",
      "Обновленный массив: [-1 -1 62 58 24 61 18  2 61  3 14 87  3 26 -1 27 22 -1 -1 67]\n"
     ]
    }
   ],
   "source": [
    "import numpy as np\n",
    "\n",
    "random_array = np.random.randint(1, 101, 20)\n",
    "print(\"Исходный массив:\", random_array)\n",
    "\n",
    "divisible_by_5 = random_array[random_array % 5 == 0]\n",
    "print(\"Элементы, делящиеся на 5:\", divisible_by_5)\n",
    "\n",
    "random_array[random_array % 5 == 0] = -1\n",
    "print(\"Обновленный массив:\", random_array)"
   ]
  },
  {
   "cell_type": "markdown",
   "id": "bca2fe72-9bea-4ade-9574-26b334601d53",
   "metadata": {},
   "source": [
    "# 3. Объединение и разбиение массивов\n",
    "\n",
    "## Описание задания  \n",
    "Создайте два массива NumPy размером 1×5, заполненные случайными числами от 0 до 50.\n",
    "\n",
    "### Элементы задания:\n",
    "- **Объедините** эти массивы в один двумерный массив (по строкам).\n",
    "- **Разделите** полученный массив на два массива, каждый из которых содержит 5 элементов.\n",
    "- **Выведите** все промежуточные и итоговые результаты.\n",
    "\n",
    "Выведите все промежуточные и итоговые результаты.\n"
   ]
  },
  {
   "cell_type": "code",
   "execution_count": 12,
   "id": "fe3cfaf0-11b5-46c5-ae5c-4d03ceecd900",
   "metadata": {},
   "outputs": [
    {
     "name": "stdout",
     "output_type": "stream",
     "text": [
      "Первый массив: [[ 6  7 35 45 26]]\n",
      "Второй массив: [[ 2  9 37 41  2]]\n",
      "Объединенный массив: [[ 6  7 35 45 26]\n",
      " [ 2  9 37 41  2]]\n",
      "Первый разделенный массив: [ 6  7 35 45 26]\n",
      "Второй разделенный массив: [ 2  9 37 41  2]\n"
     ]
    }
   ],
   "source": [
    "import numpy as np\n",
    "\n",
    "array1 = np.random.randint(0, 51, size=(1, 5))\n",
    "array2 = np.random.randint(0, 51, size=(1, 5))\n",
    "\n",
    "print(\"Первый массив:\", array1)\n",
    "print(\"Второй массив:\", array2)\n",
    "\n",
    "combined_array = np.concatenate((array1, array2), axis=0)\n",
    "\n",
    "print(\"Объединенный массив:\", combined_array)\n",
    "\n",
    "array3 = combined_array[0, :]\n",
    "array4 = combined_array[1, :]\n",
    "\n",
    "print(\"Первый разделенный массив:\", array3)\n",
    "print(\"Второй разделенный массив:\", array4)"
   ]
  },
  {
   "cell_type": "markdown",
   "id": "08537454-9a42-443c-9aab-bff23162e132",
   "metadata": {},
   "source": [
    "# 4.Генерация и работа с линейными последовательностями\n",
    "## Описание задания:\n",
    "- Создайте массив из 50 чисел, равномерно распределенных от -10 до 10.\n",
    "- Вычислите сумму всех элементов, сумму положительных элементов и сумму отрицательных элементов.\n",
    "- Выведите результаты.\n",
    "\n"
   ]
  },
  {
   "cell_type": "code",
   "execution_count": 13,
   "id": "939a0824-1bea-4700-b668-27b075243889",
   "metadata": {},
   "outputs": [
    {
     "name": "stdout",
     "output_type": "stream",
     "text": [
      "Массив: [-10.          -9.59183673  -9.18367347  -8.7755102   -8.36734694\n",
      "  -7.95918367  -7.55102041  -7.14285714  -6.73469388  -6.32653061\n",
      "  -5.91836735  -5.51020408  -5.10204082  -4.69387755  -4.28571429\n",
      "  -3.87755102  -3.46938776  -3.06122449  -2.65306122  -2.24489796\n",
      "  -1.83673469  -1.42857143  -1.02040816  -0.6122449   -0.20408163\n",
      "   0.20408163   0.6122449    1.02040816   1.42857143   1.83673469\n",
      "   2.24489796   2.65306122   3.06122449   3.46938776   3.87755102\n",
      "   4.28571429   4.69387755   5.10204082   5.51020408   5.91836735\n",
      "   6.32653061   6.73469388   7.14285714   7.55102041   7.95918367\n",
      "   8.36734694   8.7755102    9.18367347   9.59183673  10.        ]\n",
      "Сумма всех элементов: 7.105427357601002e-15\n",
      "Сумма положительных элементов: 127.55102040816328\n",
      "Сумма отрицательных элементов: -127.55102040816327\n"
     ]
    }
   ],
   "source": [
    "import numpy as np\n",
    "\n",
    "array = np.linspace(-10, 10, 50)\n",
    "\n",
    "print(\"Массив:\", array)\n",
    "\n",
    "total_sum = np.sum(array)\n",
    "print(\"Сумма всех элементов:\", total_sum)\n",
    "\n",
    "positive_elements = array[array > 0]\n",
    "positive_sum = np.sum(positive_elements)\n",
    "print(\"Сумма положительных элементов:\", positive_sum)\n",
    "\n",
    "negative_elements = array[array < 0]\n",
    "negative_sum = np.sum(negative_elements)\n",
    "print(\"Сумма отрицательных элементов:\", negative_sum)"
   ]
  },
  {
   "cell_type": "markdown",
   "id": "62d0ad3d",
   "metadata": {},
   "source": [
    "# 5.Работа с диагональными и единичными матрицами\n",
    "## Описание задания:\n",
    "Создайте: \n",
    "- Единичную матрицу размером 4×4.\n",
    "- Диагональную матрицу размером 4×4 с диагональными элементами [5, 10, 15,20] (не использовать циклы).\n",
    "\n",
    "\n"
   ]
  },
  {
   "cell_type": "code",
   "execution_count": 14,
   "id": "54fad319-ed7b-4a61-ba70-1f4cdde6ac2e",
   "metadata": {},
   "outputs": [
    {
     "name": "stdout",
     "output_type": "stream",
     "text": [
      "Единичная матрица:\n",
      " [[1. 0. 0. 0.]\n",
      " [0. 1. 0. 0.]\n",
      " [0. 0. 1. 0.]\n",
      " [0. 0. 0. 1.]]\n",
      "Диагональная матрица:\n",
      " [[ 5  0  0  0]\n",
      " [ 0 10  0  0]\n",
      " [ 0  0 15  0]\n",
      " [ 0  0  0 20]]\n",
      "Сумма элементов единичной матрицы: 4.0\n",
      "Сумма элементов диагональной матрицы: 50\n",
      "Сумма элементов диагональной матрицы больше.\n"
     ]
    }
   ],
   "source": [
    "import numpy as np\n",
    "\n",
    "identity_matrix = np.eye(4)\n",
    "print(\"Единичная матрица:\\n\", identity_matrix)\n",
    "\n",
    "diagonal_matrix = np.diag([5, 10, 15, 20])\n",
    "print(\"Диагональная матрица:\\n\", diagonal_matrix)\n",
    "\n",
    "sum_identity = np.sum(identity_matrix)\n",
    "sum_diagonal = np.sum(diagonal_matrix)\n",
    "\n",
    "print(\"Сумма элементов единичной матрицы:\", sum_identity)\n",
    "print(\"Сумма элементов диагональной матрицы:\", sum_diagonal)\n",
    "\n",
    "if sum_identity > sum_diagonal:\n",
    "    print(\"Сумма элементов единичной матрицы больше.\")\n",
    "elif sum_identity < sum_diagonal:\n",
    "    print(\"Сумма элементов диагональной матрицы больше.\")\n",
    "else:\n",
    "    print(\"Суммы элементов матриц равны.\")"
   ]
  },
  {
   "cell_type": "markdown",
   "id": "529ea277",
   "metadata": {},
   "source": [
    "# 6.Создание и базовые операции с матрицами\n",
    "## Описание задания:\n",
    "Создайте две квадратные матрицы NumPy размером 3×3, заполненные\n",
    "случайными целыми числами от 1 до 20. Вычислите и выведите:\n",
    "- Их сумму\n",
    "- Их разность\n",
    "- Их поэлементное произведение\n",
    "\n"
   ]
  },
  {
   "cell_type": "code",
   "execution_count": 15,
   "id": "77115ae1-6ba3-44a1-b74b-7ec48eba8628",
   "metadata": {},
   "outputs": [
    {
     "name": "stdout",
     "output_type": "stream",
     "text": [
      "Первая матрица:\n",
      " [[12  2  8]\n",
      " [19  3  2]\n",
      " [ 4 20 13]]\n",
      "Вторая матрица:\n",
      " [[13 20 12]\n",
      " [19 18 11]\n",
      " [ 4 13 16]]\n",
      "Сумма матриц:\n",
      " [[25 22 20]\n",
      " [38 21 13]\n",
      " [ 8 33 29]]\n",
      "Разность матриц:\n",
      " [[ -1 -18  -4]\n",
      " [  0 -15  -9]\n",
      " [  0   7  -3]]\n",
      "Поэлементное произведение:\n",
      " [[156  40  96]\n",
      " [361  54  22]\n",
      " [ 16 260 208]]\n"
     ]
    }
   ],
   "source": [
    "import numpy as np\n",
    "\n",
    "matrix1 = np.random.randint(1, 21, size=(3, 3))\n",
    "matrix2 = np.random.randint(1, 21, size=(3, 3))\n",
    "\n",
    "print(\"Первая матрица:\\n\", matrix1)\n",
    "print(\"Вторая матрица:\\n\", matrix2)\n",
    "\n",
    "sum_matrix = matrix1 + matrix2\n",
    "print(\"Сумма матриц:\\n\", sum_matrix)\n",
    "\n",
    "difference_matrix = matrix1 - matrix2\n",
    "print(\"Разность матриц:\\n\", difference_matrix)\n",
    "\n",
    "elementwise_product = matrix1 * matrix2\n",
    "print(\"Поэлементное произведение:\\n\", elementwise_product)"
   ]
  },
  {
   "cell_type": "markdown",
   "id": "60687f3e",
   "metadata": {},
   "source": [
    "# 7.Умножение матриц\n",
    "## Описание задания:\n",
    "Создайте две матрицы NumPy:\n",
    "- Первую размером 2×3, заполненную случайными числами от 1 до 10.\n",
    "- Вторую размером 3×2, заполненную случайными числами от 1 до 10.\n",
    "  \n",
    "Выполните матричное умножение ( @ или np.dot ) и выведите результат.\n"
   ]
  },
  {
   "cell_type": "code",
   "execution_count": 16,
   "id": "91031333-4774-4078-b49a-9ea6904956eb",
   "metadata": {},
   "outputs": [
    {
     "name": "stdout",
     "output_type": "stream",
     "text": [
      "Первая матрица:\n",
      " [[8 9 9]\n",
      " [8 9 8]]\n",
      "Вторая матрица:\n",
      " [[9 4]\n",
      " [2 9]\n",
      " [6 7]]\n",
      "Результат матричного умножения:\n",
      " [[144 176]\n",
      " [138 169]]\n"
     ]
    }
   ],
   "source": [
    "import numpy as np\n",
    "\n",
    "matrix1 = np.random.randint(1, 11, size=(2, 3))\n",
    "\n",
    "matrix2 = np.random.randint(1, 11, size=(3, 2))\n",
    "\n",
    "print(\"Первая матрица:\\n\", matrix1)\n",
    "print(\"Вторая матрица:\\n\", matrix2)\n",
    "\n",
    "result_matrix = matrix1 @ matrix2\n",
    "\n",
    "print(\"Результат матричного умножения:\\n\", result_matrix)"
   ]
  },
  {
   "cell_type": "markdown",
   "id": "31229663",
   "metadata": {},
   "source": [
    "# 8.Опеределитель и обратная матрица\n",
    "## Описание задания:\n",
    "Создайте случайную квадратную матрицу 3×3. Найдите и выведите:\n",
    "- Определитель этой матрицы\n",
    "- Обратную матрицу (если существует, иначе выведите сообщение, что матрица\n",
    "вырождена)\n",
    "  \n"
   ]
  },
  {
   "cell_type": "code",
   "execution_count": 17,
   "id": "a34c1394-c407-4da6-ab10-4086c53b5876",
   "metadata": {},
   "outputs": [
    {
     "name": "stdout",
     "output_type": "stream",
     "text": [
      "Матрица:\n",
      " [[0.45258824 0.7172766  0.99107246]\n",
      " [0.0268598  0.53104092 0.76429545]\n",
      " [0.06923236 0.18400502 0.14661309]]\n",
      "Определитель матрицы: -0.02482142600139072\n",
      "Обратная матрица:\n",
      " [[ 2.52913137 -3.11022277 -0.8827542 ]\n",
      " [-1.97313332  0.09100716 12.86352878]\n",
      " [ 1.282073    1.35446499 -8.90669896]]\n"
     ]
    }
   ],
   "source": [
    "import numpy as np\n",
    "\n",
    "matrix = np.random.rand(3, 3)\n",
    "print(\"Матрица:\\n\", matrix)\n",
    "\n",
    "determinant = np.linalg.det(matrix)\n",
    "print(\"Определитель матрицы:\", determinant)\n",
    "\n",
    "if np.abs(determinant) > 1e-8:\n",
    "    try:\n",
    "        inverse_matrix = np.linalg.inv(matrix)\n",
    "        print(\"Обратная матрица:\\n\", inverse_matrix)\n",
    "    except np.linalg.LinAlgError:\n",
    "        print(\"Матрица вырождена и не имеет обратной матрицы.\")\n",
    "else:\n",
    "    print(\"Матрица вырождена и не имеет обратной матрицы.\")"
   ]
  },
  {
   "cell_type": "markdown",
   "id": "2d246909",
   "metadata": {},
   "source": [
    "# 9.Транспанирование и след матрицы\n",
    "## Описание задания:\n",
    "Создайте матрицу NumPy размером 4×4, содержащую случайные целые числа от1 до 50. \n",
    "\n",
    "Выведите:\n",
    "- Исходную матрицу\n",
    "- Транспонированную матрицу\n",
    "- След матрицы (сумму элементов на главной диагонали)\n",
    "\n"
   ]
  },
  {
   "cell_type": "code",
   "execution_count": 18,
   "id": "34d94ed4-edec-4459-a0c7-305ca9cbb87e",
   "metadata": {},
   "outputs": [
    {
     "name": "stdout",
     "output_type": "stream",
     "text": [
      "Исходная матрица:\n",
      " [[10 29 28 14]\n",
      " [28 18 17 19]\n",
      " [18  3 14 48]\n",
      " [48 16 48 10]]\n",
      "Транспонированная матрица:\n",
      " [[10 28 18 48]\n",
      " [29 18  3 16]\n",
      " [28 17 14 48]\n",
      " [14 19 48 10]]\n",
      "След матрицы: 52\n"
     ]
    }
   ],
   "source": [
    "import numpy as np\n",
    "\n",
    "matrix = np.random.randint(1, 51, size=(4, 4))\n",
    "\n",
    "print(\"Исходная матрица:\\n\", matrix)\n",
    "\n",
    "transposed_matrix = matrix.T\n",
    "print(\"Транспонированная матрица:\\n\", transposed_matrix)\n",
    "\n",
    "trace = np.trace(matrix)\n",
    "print(\"След матрицы:\", trace)"
   ]
  },
  {
   "cell_type": "markdown",
   "id": "1286bf29",
   "metadata": {},
   "source": [
    "# 10.Системы линейных уравнений\n",
    "## Описание задания:\n",
    "Решите систему линейных уравнений вида:\n",
    "\n",
    "\n",
    "\\begin{aligned}\n",
    "2x + 3y - z &= 5 \\\\\n",
    "4x - y + 2z &= 6 \\\\\n",
    "-3x + 5y + 4z &= -2\n",
    "\\end{aligned}\n",
    "\n"
   ]
  },
  {
   "cell_type": "code",
   "execution_count": 19,
   "id": "c7e4684c-53a3-4844-aeda-06edb42a3071",
   "metadata": {},
   "outputs": [
    {
     "name": "stdout",
     "output_type": "stream",
     "text": [
      "Решение системы уравнений:\n",
      "x = 1.6396396396396398\n",
      "y = 0.5765765765765767\n",
      "z = 0.009009009009008978\n"
     ]
    }
   ],
   "source": [
    "import numpy as np\n",
    "\n",
    "A = np.array([[2, 3, -1],\n",
    "              [4, -1, 2],\n",
    "              [-3, 5, 4]])\n",
    "\n",
    "B = np.array([5, 6, -2])\n",
    "\n",
    "X = np.linalg.solve(A, B)\n",
    "\n",
    "print(\"Решение системы уравнений:\")\n",
    "print(\"x =\", X[0])\n",
    "print(\"y =\", X[1])\n",
    "print(\"z =\", X[2])"
   ]
  },
  {
   "cell_type": "markdown",
   "id": "09954eaf",
   "metadata": {},
   "source": [
    "# 11.Индивидуальное задание (Вариант 7)\n",
    "## Описание задания:\n",
    "Решите индивидуальное задание согласно варианта. Каждое задание\n",
    "предусматривает построение системы линейных уравнений. Решите полученную\n",
    "систему уравнений с использованием библиотеки NumPy. Для решения системы\n",
    "используйте метод Крамера и матричный метод. Сравните полученные\n",
    "результаты, с результатами, полученными с помощью np.linalg.solve .\n",
    "## 7 задание:\n",
    "\n",
    "\\begin{cases}\n",
    "x = \\frac{2}{3}y \\\\\n",
    "z = x + y + 100 \\\\\n",
    "x + y + z = 1000\n",
    "\\end{cases}\n",
    "\n"
   ]
  },
  {
   "cell_type": "code",
   "execution_count": 20,
   "id": "fc4bb1ed-f1b2-4b5f-bc79-caf4c6fcf6ed",
   "metadata": {},
   "outputs": [
    {
     "name": "stdout",
     "output_type": "stream",
     "text": [
      "Результаты решения системы уравнений:\n",
      "\n",
      "Метод Крамера:\n",
      "x (Первый резервуар) = 225.00000000000003\n",
      "y (Второй резервуар) = 112.50000000000001\n",
      "z (Третий резервуар) = 162.49999999999997\n",
      "\n",
      "Матричный метод (через обратную матрицу):\n",
      "x (Первый резервуар) = 225.0\n",
      "y (Второй резервуар) = 112.5\n",
      "z (Третий резервуар) = 162.5\n",
      "\n",
      "np.linalg.solve:\n",
      "x (Первый резервуар) = 225.0\n",
      "y (Второй резервуар) = 112.5\n",
      "z (Третий резервуар) = 162.5\n",
      "\n",
      "Все методы дали одинаковые результаты.\n"
     ]
    }
   ],
   "source": [
    "import numpy as np\n",
    "import numpy.linalg\n",
    "\n",
    "A = np.array([[3, -2, 0],\n",
    "              [1, 1, -1],\n",
    "              [1, 1, 1]])\n",
    "\n",
    "B = np.array([0, -100, 1000])\n",
    "\n",
    "def kramer(A, B):\n",
    "    det_A = np.linalg.det(A)\n",
    "    if np.isclose(det_A, 0):\n",
    "        return None\n",
    "    n = A.shape[0]\n",
    "    X = np.array([np.linalg.det(np.concatenate((A[:,:i], B[:,None], A[:,i+1:]), axis=1)) / det_A for i in range(n)])\n",
    "    return X\n",
    "\n",
    "def inverse_matrix_method(A, B):\n",
    "  try:\n",
    "    A_inv = np.linalg.inv(A)\n",
    "  except np.linalg.LinAlgError:\n",
    "    return None\n",
    "  X = np.dot(A_inv, B)\n",
    "  return X\n",
    "\n",
    "def numpy_solve(A, B):\n",
    "  try:\n",
    "    X = np.linalg.solve(A, B)\n",
    "    return X\n",
    "  except np.linalg.LinAlgError:\n",
    "    return None\n",
    "\n",
    "X_kramer = kramer(A, B)\n",
    "X_inverse = inverse_matrix_method(A, B)\n",
    "X_solve = numpy_solve(A, B)\n",
    "\n",
    "print(\"Результаты решения системы уравнений:\")\n",
    "\n",
    "if X_kramer is not None:\n",
    "  print(\"\\nМетод Крамера:\")\n",
    "  print(\"Цена первого товара =\", X_kramer[0])\n",
    "  print(\"Цена второго товара =\", X_kramer[1])\n",
    "  print(\"Цена третьего товара =\", X_kramer[2])\n",
    "else:\n",
    "  print(\"\\nМетод Крамера: Решение не существует (определитель равен 0).\")\n",
    "\n",
    "if X_inverse is not None:\n",
    "  print(\"\\nМатричный метод (через обратную матрицу):\")\n",
    "  print(\"Цена первого товара =\", X_inverse[0])\n",
    "  print(\"Цена второго товара =\", X_inverse[1])\n",
    "  print(\"Цена третьего товара =\", X_inverse[2])\n",
    "else:\n",
    "  print(\"\\nМатричный метод (через обратную матрицу): Решение не существует (матрица вырождена).\")\n",
    "\n",
    "if X_solve is not None:\n",
    "  print(\"\\nnp.linalg.solve:\")\n",
    "  print(\"Цена первого товара =\", X_solve[0])\n",
    "  print(\"Цена второго товара =\", X_solve[1])\n",
    "  print(\"Цена третьего товара =\", X_solve[2])\n",
    "else:\n",
    "    print(\"\\nnp.linalg.solve: Решение не существует (матрица вырождена).\")\n",
    "\n",
    "if X_kramer is not None and X_inverse is not None and X_solve is not None:\n",
    "    results = [X_kramer, X_inverse, X_solve]\n",
    "    if all(np.allclose(results[0], x) for x in results[1:]):\n",
    "        print(\"\\nВсе методы дали одинаковые результаты.\")\n",
    "    else:\n",
    "        print(\"\\nВнимание! Методы дали разные результаты.\")"
   ]
  },
  {
   "cell_type": "code",
   "execution_count": null,
   "id": "588e0a22-11a9-45d5-a02e-540b6b53257d",
   "metadata": {},
   "outputs": [],
   "source": []
  }
 ],
 "metadata": {
  "kernelspec": {
   "display_name": "Python 3 (ipykernel)",
   "language": "python",
   "name": "python3"
  },
  "language_info": {
   "codemirror_mode": {
    "name": "ipython",
    "version": 3
   },
   "file_extension": ".py",
   "mimetype": "text/x-python",
   "name": "python",
   "nbconvert_exporter": "python",
   "pygments_lexer": "ipython3",
   "version": "3.12.7"
  }
 },
 "nbformat": 4,
 "nbformat_minor": 5
}
